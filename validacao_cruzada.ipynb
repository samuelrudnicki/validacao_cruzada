{
  "nbformat": 4,
  "nbformat_minor": 0,
  "metadata": {
    "colab": {
      "name": "validacao_cruzada.ipynb",
      "provenance": [],
      "collapsed_sections": [],
      "include_colab_link": true
    },
    "kernelspec": {
      "name": "python3",
      "display_name": "Python 3"
    }
  },
  "cells": [
    {
      "cell_type": "markdown",
      "metadata": {
        "id": "view-in-github",
        "colab_type": "text"
      },
      "source": [
        "<a href=\"https://colab.research.google.com/github/samuelrudnicki/validacao_cruzada/blob/main/validacao_cruzada.ipynb\" target=\"_parent\"><img src=\"https://colab.research.google.com/assets/colab-badge.svg\" alt=\"Open In Colab\"/></a>"
      ]
    },
    {
      "cell_type": "markdown",
      "metadata": {
        "id": "8YF1g2Nw7y7z"
      },
      "source": [
        "# INF01017 - Aprendizado de Máquina\n",
        "\n",
        "## Exercício sobre Validação Cruzada\n",
        "\n",
        "### Samuel Rudnicki"
      ]
    },
    {
      "cell_type": "code",
      "metadata": {
        "id": "XrOTRCO_8PoO"
      },
      "source": [
        "import pandas as pd\n",
        "import numpy as np\n",
        "import math"
      ],
      "execution_count": null,
      "outputs": []
    },
    {
      "cell_type": "code",
      "metadata": {
        "id": "j_Rj1Sea8djw",
        "colab": {
          "base_uri": "https://localhost:8080/",
          "height": 204
        },
        "outputId": "111ce91d-65b6-489d-caff-0b6cd5b467de"
      },
      "source": [
        "url = 'https://raw.githubusercontent.com/samuelrudnicki/cross-validation/master/diabetes.csv'\n",
        "\n",
        "df = pd.read_csv(url)\n",
        "\n",
        "df.head()"
      ],
      "execution_count": null,
      "outputs": [
        {
          "output_type": "execute_result",
          "data": {
            "text/html": [
              "<div>\n",
              "<style scoped>\n",
              "    .dataframe tbody tr th:only-of-type {\n",
              "        vertical-align: middle;\n",
              "    }\n",
              "\n",
              "    .dataframe tbody tr th {\n",
              "        vertical-align: top;\n",
              "    }\n",
              "\n",
              "    .dataframe thead th {\n",
              "        text-align: right;\n",
              "    }\n",
              "</style>\n",
              "<table border=\"1\" class=\"dataframe\">\n",
              "  <thead>\n",
              "    <tr style=\"text-align: right;\">\n",
              "      <th></th>\n",
              "      <th>Pregnancies</th>\n",
              "      <th>Glucose</th>\n",
              "      <th>BloodPressure</th>\n",
              "      <th>SkinThickness</th>\n",
              "      <th>Insulin</th>\n",
              "      <th>BMI</th>\n",
              "      <th>DiabetesPedigreeFunction</th>\n",
              "      <th>Age</th>\n",
              "      <th>Outcome</th>\n",
              "    </tr>\n",
              "  </thead>\n",
              "  <tbody>\n",
              "    <tr>\n",
              "      <th>0</th>\n",
              "      <td>6</td>\n",
              "      <td>148</td>\n",
              "      <td>72</td>\n",
              "      <td>35</td>\n",
              "      <td>0</td>\n",
              "      <td>33.6</td>\n",
              "      <td>0.627</td>\n",
              "      <td>50</td>\n",
              "      <td>1</td>\n",
              "    </tr>\n",
              "    <tr>\n",
              "      <th>1</th>\n",
              "      <td>1</td>\n",
              "      <td>85</td>\n",
              "      <td>66</td>\n",
              "      <td>29</td>\n",
              "      <td>0</td>\n",
              "      <td>26.6</td>\n",
              "      <td>0.351</td>\n",
              "      <td>31</td>\n",
              "      <td>0</td>\n",
              "    </tr>\n",
              "    <tr>\n",
              "      <th>2</th>\n",
              "      <td>8</td>\n",
              "      <td>183</td>\n",
              "      <td>64</td>\n",
              "      <td>0</td>\n",
              "      <td>0</td>\n",
              "      <td>23.3</td>\n",
              "      <td>0.672</td>\n",
              "      <td>32</td>\n",
              "      <td>1</td>\n",
              "    </tr>\n",
              "    <tr>\n",
              "      <th>3</th>\n",
              "      <td>1</td>\n",
              "      <td>89</td>\n",
              "      <td>66</td>\n",
              "      <td>23</td>\n",
              "      <td>94</td>\n",
              "      <td>28.1</td>\n",
              "      <td>0.167</td>\n",
              "      <td>21</td>\n",
              "      <td>0</td>\n",
              "    </tr>\n",
              "    <tr>\n",
              "      <th>4</th>\n",
              "      <td>0</td>\n",
              "      <td>137</td>\n",
              "      <td>40</td>\n",
              "      <td>35</td>\n",
              "      <td>168</td>\n",
              "      <td>43.1</td>\n",
              "      <td>2.288</td>\n",
              "      <td>33</td>\n",
              "      <td>1</td>\n",
              "    </tr>\n",
              "  </tbody>\n",
              "</table>\n",
              "</div>"
            ],
            "text/plain": [
              "   Pregnancies  Glucose  BloodPressure  ...  DiabetesPedigreeFunction  Age  Outcome\n",
              "0            6      148             72  ...                     0.627   50        1\n",
              "1            1       85             66  ...                     0.351   31        0\n",
              "2            8      183             64  ...                     0.672   32        1\n",
              "3            1       89             66  ...                     0.167   21        0\n",
              "4            0      137             40  ...                     2.288   33        1\n",
              "\n",
              "[5 rows x 9 columns]"
            ]
          },
          "metadata": {
            "tags": []
          },
          "execution_count": 27
        }
      ]
    },
    {
      "cell_type": "markdown",
      "metadata": {
        "id": "MPDYjMZXdSxa"
      },
      "source": [
        "## Pré-processamento: normalização"
      ]
    },
    {
      "cell_type": "code",
      "metadata": {
        "id": "zYnsn0JrdgA1",
        "colab": {
          "base_uri": "https://localhost:8080/",
          "height": 204
        },
        "outputId": "c199fada-577d-41da-ca06-8fa8585a2561"
      },
      "source": [
        "def normalize(dataset):\n",
        "  dataset_normalized=((dataset-dataset.min())/(dataset.max()-dataset.min()))\n",
        "  dataset_normalized['Outcome'] = dataset['Outcome']\n",
        "  dataset_normalized = dataset_normalized.sort_values('Outcome').reset_index(drop = True)\n",
        "  return dataset_normalized\n",
        "\n",
        "df_normalized = normalize(df)\n",
        "df_normalized.head()"
      ],
      "execution_count": null,
      "outputs": [
        {
          "output_type": "execute_result",
          "data": {
            "text/html": [
              "<div>\n",
              "<style scoped>\n",
              "    .dataframe tbody tr th:only-of-type {\n",
              "        vertical-align: middle;\n",
              "    }\n",
              "\n",
              "    .dataframe tbody tr th {\n",
              "        vertical-align: top;\n",
              "    }\n",
              "\n",
              "    .dataframe thead th {\n",
              "        text-align: right;\n",
              "    }\n",
              "</style>\n",
              "<table border=\"1\" class=\"dataframe\">\n",
              "  <thead>\n",
              "    <tr style=\"text-align: right;\">\n",
              "      <th></th>\n",
              "      <th>Pregnancies</th>\n",
              "      <th>Glucose</th>\n",
              "      <th>BloodPressure</th>\n",
              "      <th>SkinThickness</th>\n",
              "      <th>Insulin</th>\n",
              "      <th>BMI</th>\n",
              "      <th>DiabetesPedigreeFunction</th>\n",
              "      <th>Age</th>\n",
              "      <th>Outcome</th>\n",
              "    </tr>\n",
              "  </thead>\n",
              "  <tbody>\n",
              "    <tr>\n",
              "      <th>0</th>\n",
              "      <td>0.058824</td>\n",
              "      <td>0.452261</td>\n",
              "      <td>0.508197</td>\n",
              "      <td>0.181818</td>\n",
              "      <td>0.069740</td>\n",
              "      <td>0.374069</td>\n",
              "      <td>0.508113</td>\n",
              "      <td>0.066667</td>\n",
              "      <td>0</td>\n",
              "    </tr>\n",
              "    <tr>\n",
              "      <th>1</th>\n",
              "      <td>0.000000</td>\n",
              "      <td>0.623116</td>\n",
              "      <td>0.459016</td>\n",
              "      <td>0.131313</td>\n",
              "      <td>0.124113</td>\n",
              "      <td>0.324888</td>\n",
              "      <td>0.159693</td>\n",
              "      <td>0.000000</td>\n",
              "      <td>0</td>\n",
              "    </tr>\n",
              "    <tr>\n",
              "      <th>2</th>\n",
              "      <td>0.000000</td>\n",
              "      <td>0.371859</td>\n",
              "      <td>0.426230</td>\n",
              "      <td>0.101010</td>\n",
              "      <td>0.042553</td>\n",
              "      <td>0.414307</td>\n",
              "      <td>0.081554</td>\n",
              "      <td>0.016667</td>\n",
              "      <td>0</td>\n",
              "    </tr>\n",
              "    <tr>\n",
              "      <th>3</th>\n",
              "      <td>0.000000</td>\n",
              "      <td>0.487437</td>\n",
              "      <td>0.524590</td>\n",
              "      <td>0.363636</td>\n",
              "      <td>0.118203</td>\n",
              "      <td>0.548435</td>\n",
              "      <td>0.222886</td>\n",
              "      <td>0.066667</td>\n",
              "      <td>0</td>\n",
              "    </tr>\n",
              "    <tr>\n",
              "      <th>4</th>\n",
              "      <td>0.352941</td>\n",
              "      <td>0.773869</td>\n",
              "      <td>0.639344</td>\n",
              "      <td>0.414141</td>\n",
              "      <td>0.165485</td>\n",
              "      <td>0.687034</td>\n",
              "      <td>0.210504</td>\n",
              "      <td>0.100000</td>\n",
              "      <td>0</td>\n",
              "    </tr>\n",
              "  </tbody>\n",
              "</table>\n",
              "</div>"
            ],
            "text/plain": [
              "   Pregnancies   Glucose  ...       Age  Outcome\n",
              "0     0.058824  0.452261  ...  0.066667        0\n",
              "1     0.000000  0.623116  ...  0.000000        0\n",
              "2     0.000000  0.371859  ...  0.016667        0\n",
              "3     0.000000  0.487437  ...  0.066667        0\n",
              "4     0.352941  0.773869  ...  0.100000        0\n",
              "\n",
              "[5 rows x 9 columns]"
            ]
          },
          "metadata": {
            "tags": []
          },
          "execution_count": 28
        }
      ]
    },
    {
      "cell_type": "markdown",
      "metadata": {
        "id": "sGTm6L2pvFwn"
      },
      "source": [
        "## K-fold coss-validation\n",
        "\n"
      ]
    },
    {
      "cell_type": "code",
      "metadata": {
        "id": "sThYPerGvcTI"
      },
      "source": [
        "k = 10 #definição do número de folds para a validação cruzada\n",
        "\n",
        "instance_count = df_normalized['Outcome'].count()\n",
        "\n",
        "positive_outcome_count = df_normalized['Outcome'].sum()\n",
        "negative_outcome_count = instance_count - positive_outcome_count\n",
        "\n",
        "positive_outcome_ratio = positive_outcome_count / instance_count \n",
        "negative_outcome_ratio = negative_outcome_count / instance_count\n",
        "\n",
        "fold_size = instance_count / k\n",
        "\n",
        "positive_outcome_per_fold = positive_outcome_ratio * fold_size\n",
        "negative_outcome_per_fold = negative_outcome_ratio * fold_size\n",
        "\n",
        "#cada fold é armazenado em uma posição da lista folded_data\n",
        "#pela maneira que o pre-processamento foi realizado as instancias da tabela estão ordenadas de forma crescente pelo atributo Outcome\n",
        "#os 500 primeiros valores são negativos e os proximos 268 positivos\n",
        "folded_data = []\n",
        "for fold_index in range(k):\n",
        "  folded_data.append(df_normalized[int(fold_index*negative_outcome_per_fold):int((fold_index+1)*negative_outcome_per_fold)].append(df_normalized[int(500 + fold_index*positive_outcome_per_fold):int(500 + (fold_index+1)*positive_outcome_per_fold)]))"
      ],
      "execution_count": null,
      "outputs": []
    },
    {
      "cell_type": "code",
      "metadata": {
        "id": "yhqtTftsmVg5",
        "colab": {
          "base_uri": "https://localhost:8080/",
          "height": 187
        },
        "outputId": "ab4c44d8-b4a2-4533-88b6-dea0cff08959"
      },
      "source": [
        "#for fold in folded_data:\n",
        "#  print(fold['Outcome'].count(), fold['Outcome'].sum(), fold['Outcome'].sum()/fold['Outcome'].count())"
      ],
      "execution_count": null,
      "outputs": [
        {
          "output_type": "stream",
          "text": [
            "75 26 0.3466666666666667\n",
            "77 27 0.35064935064935066\n",
            "77 27 0.35064935064935066\n",
            "77 27 0.35064935064935066\n",
            "77 27 0.35064935064935066\n",
            "76 26 0.34210526315789475\n",
            "77 27 0.35064935064935066\n",
            "77 27 0.35064935064935066\n",
            "77 27 0.35064935064935066\n",
            "77 27 0.35064935064935066\n"
          ],
          "name": "stdout"
        }
      ]
    },
    {
      "cell_type": "markdown",
      "metadata": {
        "id": "LcoHv5ntBI3Y"
      },
      "source": [
        "## Algoritmo K-nearest neighbors (KNN)"
      ]
    },
    {
      "cell_type": "code",
      "metadata": {
        "id": "7ixUsCsycXU0"
      },
      "source": [
        "def get_euclidean_distance(instances, test_instance):\n",
        "  \n",
        "  return instances.apply(lambda instance: np.linalg.norm(instance - test_instance), axis = 1)"
      ],
      "execution_count": null,
      "outputs": []
    },
    {
      "cell_type": "code",
      "metadata": {
        "id": "-KG4xaReBWVZ"
      },
      "source": [
        "def knn(training_data, test_instance, k):\n",
        "\n",
        "  training_data_copy = training_data.copy()\n",
        "  training_data_copy['instance_test_distance'] = get_euclidean_distance(training_data_copy.drop('Outcome', axis=1)[:], test_instance.drop('Outcome'))\n",
        "  training_data_copy = training_data_copy.sort_values('instance_test_distance')\n",
        "  positive_outcome_count = training_data_copy.head(k)['Outcome'].sum()\n",
        "\n",
        "  result = 1 if positive_outcome_count > k/2 else 0\n",
        "\n",
        "  return result\n"
      ],
      "execution_count": null,
      "outputs": []
    },
    {
      "cell_type": "code",
      "metadata": {
        "id": "pLkl_51BjSyx",
        "colab": {
          "base_uri": "https://localhost:8080/",
          "height": 421
        },
        "outputId": "d5417cf5-6dc0-4a7f-a42d-3b055d1f6ffe"
      },
      "source": [
        "knn_k = 5; #definição do valor de K para do modelo KNN\n",
        "\n",
        "evaluation_table = pd.DataFrame()\n",
        "\n",
        "#para cada iteração gera uma matriz de confusão do atributo Outcome\n",
        "for i in range(len(folded_data)):\n",
        "  training_data = pd.DataFrame()\n",
        "  confusion_matrix = [0, 0, 0, 0] # [VP, FP, FN, VN]\n",
        "\n",
        "  #une os k-1 folds para o treinamento do modelo \n",
        "  for j in [x for x in range(len(folded_data)) if x!=i]:\n",
        "    training_data = training_data.append(folded_data[j])\n",
        "  \n",
        "  #gera a matriz de confusão para o modelo testando-o com o fold restante\n",
        "  for index, row in folded_data[i].iterrows():\n",
        "    prediction = knn(training_data, row, knn_k)\n",
        "    confusion_matrix[0] += 1 if (prediction==row['Outcome'] and row['Outcome']==1) else 0\n",
        "    confusion_matrix[1] += 1 if (prediction!=row['Outcome'] and row['Outcome']==0) else 0\n",
        "    confusion_matrix[2] += 1 if (prediction!=row['Outcome'] and row['Outcome']==1) else 0\n",
        "    confusion_matrix[3] += 1 if (prediction==row['Outcome'] and row['Outcome']==0) else 0\n",
        "\n",
        "  #Calcula os valores de acurária e F1-measure do modelo treinado atual\n",
        "  prec = confusion_matrix[0] / (confusion_matrix[0] + confusion_matrix[1]) \n",
        "  rev = confusion_matrix[0] / (confusion_matrix[0] + confusion_matrix[2])\n",
        "  iteration_evaluation = pd.Series(dtype='float64')\n",
        "  iteration_evaluation['Acurácia'] = (confusion_matrix[0]+confusion_matrix[3]) / len(folded_data[i])\n",
        "  iteration_evaluation['F1-measure'] = 2 * prec * rev / (prec + rev)\n",
        "  evaluation_table = evaluation_table.append(iteration_evaluation, ignore_index=True)\n",
        "\n",
        "#gera tabela com o número da iteração e seus valores de acurária e F1-measure, bem como a media e desvio padrão dos mesmos\n",
        "evaluation_table.index += 1\n",
        "evaluation_table = evaluation_table.append(evaluation_table.describe()['mean':'std'] )\n",
        "\n",
        "display(evaluation_table)\n",
        "\n",
        "\n",
        "\n"
      ],
      "execution_count": null,
      "outputs": [
        {
          "output_type": "display_data",
          "data": {
            "text/html": [
              "<div>\n",
              "<style scoped>\n",
              "    .dataframe tbody tr th:only-of-type {\n",
              "        vertical-align: middle;\n",
              "    }\n",
              "\n",
              "    .dataframe tbody tr th {\n",
              "        vertical-align: top;\n",
              "    }\n",
              "\n",
              "    .dataframe thead th {\n",
              "        text-align: right;\n",
              "    }\n",
              "</style>\n",
              "<table border=\"1\" class=\"dataframe\">\n",
              "  <thead>\n",
              "    <tr style=\"text-align: right;\">\n",
              "      <th></th>\n",
              "      <th>Acurácia</th>\n",
              "      <th>F1-measure</th>\n",
              "    </tr>\n",
              "  </thead>\n",
              "  <tbody>\n",
              "    <tr>\n",
              "      <th>1</th>\n",
              "      <td>0.826667</td>\n",
              "      <td>0.745098</td>\n",
              "    </tr>\n",
              "    <tr>\n",
              "      <th>2</th>\n",
              "      <td>0.857143</td>\n",
              "      <td>0.800000</td>\n",
              "    </tr>\n",
              "    <tr>\n",
              "      <th>3</th>\n",
              "      <td>0.688312</td>\n",
              "      <td>0.478261</td>\n",
              "    </tr>\n",
              "    <tr>\n",
              "      <th>4</th>\n",
              "      <td>0.636364</td>\n",
              "      <td>0.440000</td>\n",
              "    </tr>\n",
              "    <tr>\n",
              "      <th>5</th>\n",
              "      <td>0.792208</td>\n",
              "      <td>0.703704</td>\n",
              "    </tr>\n",
              "    <tr>\n",
              "      <th>6</th>\n",
              "      <td>0.723684</td>\n",
              "      <td>0.511628</td>\n",
              "    </tr>\n",
              "    <tr>\n",
              "      <th>7</th>\n",
              "      <td>0.727273</td>\n",
              "      <td>0.571429</td>\n",
              "    </tr>\n",
              "    <tr>\n",
              "      <th>8</th>\n",
              "      <td>0.805195</td>\n",
              "      <td>0.716981</td>\n",
              "    </tr>\n",
              "    <tr>\n",
              "      <th>9</th>\n",
              "      <td>0.675325</td>\n",
              "      <td>0.468085</td>\n",
              "    </tr>\n",
              "    <tr>\n",
              "      <th>10</th>\n",
              "      <td>0.675325</td>\n",
              "      <td>0.528302</td>\n",
              "    </tr>\n",
              "    <tr>\n",
              "      <th>mean</th>\n",
              "      <td>0.740749</td>\n",
              "      <td>0.596349</td>\n",
              "    </tr>\n",
              "    <tr>\n",
              "      <th>std</th>\n",
              "      <td>0.074841</td>\n",
              "      <td>0.132055</td>\n",
              "    </tr>\n",
              "  </tbody>\n",
              "</table>\n",
              "</div>"
            ],
            "text/plain": [
              "      Acurácia  F1-measure\n",
              "1     0.826667    0.745098\n",
              "2     0.857143    0.800000\n",
              "3     0.688312    0.478261\n",
              "4     0.636364    0.440000\n",
              "5     0.792208    0.703704\n",
              "6     0.723684    0.511628\n",
              "7     0.727273    0.571429\n",
              "8     0.805195    0.716981\n",
              "9     0.675325    0.468085\n",
              "10    0.675325    0.528302\n",
              "mean  0.740749    0.596349\n",
              "std   0.074841    0.132055"
            ]
          },
          "metadata": {
            "tags": []
          }
        }
      ]
    }
  ]
}